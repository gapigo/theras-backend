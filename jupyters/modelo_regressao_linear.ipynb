#Importando bibliotecas para análise de dados
import numpy as np
import pandas as pd
import yfinance as yf
import matplotlib.pyplot as plt
from pandas_datareader import data

#Importanto biblioteacs para aprendizado de máquina
from sklearn.feature_selection import SelectKBest
from sklearn.model_selection import GridSearchCV
from sklearn.preprocessing import MinMaxScaler
from sklearn import datasets, linear_model
from sklearn.metrics import mean_squared_error, r2_score

#Alterando tamanho padrão das plotagens
plt.rcParams['figure.figsize'] = (18,8)

#Importando dados com a biblioteca yfinance
empresa = 'MGLU3.SA' 
dados = yf.Ticker(empresa)
df = dados.history(period = 'max', interval='1wk')
df

# Atribuindo media móvel em uma nova coluna (21 dias)
df['mm21'] = df['Close'].rolling(21).mean()

#Reorganizando o close
df['Close'] = df['Close'].shift(-1)
df

# Apagando valores nulos
df.dropna(inplace=True)
df

#Definindo quantidade de linhas para treino, validacao e teste
qtd_linhas = len(df)
qtd_linhas_treino = round(.50 * qtd_linhas)
qtd_linhas_teste= 300 
qtd_linhas_validacao = qtd_linhas + qtd_linhas_teste

print(f"linhas treino= 0:{qtd_linhas_treino}")
print(f"linhas teste= {qtd_linhas_treino}:{qtd_linhas_treino + qtd_linhas_teste -1}")
print(f"linhas validação= {qtd_linhas_validacao}")

#Adicionando a data para outra coluna e indexando as linhas com números inteiros
df["troca_data"] = df.index
df = df.reset_index(drop=True)
df

novo_df = df
#separando as features e labels
features = df.drop(['Close', 'Close', 'troca_data'], 1)
labels = df['Close']

features_list = ('Open','High','Low','Volume', 'mm21d')

#Selecionando as melhores features para ML
melhores_features = SelectKBest(k='all')
melhores_features.fit_transform(features, labels)
melhores_features_scores = melhores_features.scores_
pares_brutos = zip(features_list[1:], melhores_features_scores)
ordenados = list(reversed(sorted(pares_brutos, key=lambda x: x[1])))

melhores_features_final = dict(ordenados[:15])
melhores_features = melhores_features_final.keys()
print ('')
print ("Melhores features:")
print (melhores_features_final)

#Separa os dados de treino teste e validação
X_train = features[:qtd_linhas_treino]
X_test = features[qtd_linhas_treino:qtd_linhas_treino + qtd_linhas_teste -1]

y_train = labels[:qtd_linhas_treino]
y_test = labels[qtd_linhas_treino:qtd_linhas_treino + qtd_linhas_teste -1]

print( len(X_train), len(y_train))

print( len(X_test), len(y_test))

# Normalizando os dados de entrada(features)

# Gerando o novo padrão
scaler = MinMaxScaler()
X_train_scale = scaler.fit_transform(X_train)  # Normalizando os dados de entrada(treinamento)
X_test_scale  = scaler.transform(X_test)       # Normalizando os dados de entrada(teste)

#treinamento usando regressão linear
lr = linear_model.LinearRegression()
lr.fit(X_train_scale, y_train)
pred= lr.predict(X_test_scale)
cd =r2_score(y_test, pred)

f'Coeficiente de determinação:{cd * 100:.2f}'

#Atribuindo os últimos 3 meses
valor_novo = features.tail(97)
valor_novo.head()

#executando a previsão
previsao=scaler.transform(valor_novo)
pred=lr.predict(previsao)

# Executando a previsão para os próximos 7 dias
previsao=scaler.transform(valor_novo)
pred=lr.predict(previsao)

# Extraindo dados e adicionando real e previsão
data_pregao_full= novo_df['troca_data']
data_pregao=data_pregao_full.tail(7)

res_full= novo_df['Close']
res=res_full.tail(97)

df=pd.DataFrame({'real':res, 'previsao':pred})
df

#plotagem
plt.title("Preço da Ação R$")
plt.plot(df["real"],label = "Real", color = "green", marker = 'o')
plt.plot(df["previsao"],label = "Previsto", color = "red")
plt.xlabel("Data")
plt.ylabel("Valor fechamento")
plt.legend()
